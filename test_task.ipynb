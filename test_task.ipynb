{
 "cells": [
  {
   "cell_type": "markdown",
   "metadata": {},
   "source": [
    "# Тестовое задание\n",
    "\n",
    "В данном задании необходимо написать код, который считает следующие признаки для каждого клиента `user_id`:\n",
    "\n",
    "1. `events_ordinal_number` - порядковый номер события\n",
    "2. `second_event_time` - время второго события\n",
    "2.\t`loan_ordinal_number` - порядковый номер займа\n",
    "2.\t`events_time_diff` - разница во времени между событиями\n",
    "2.\t`previous_loans_max_amount` - максимальная сумма предыдущего займа.\n"
   ]
  },
  {
   "cell_type": "markdown",
   "metadata": {},
   "source": [
    "### Подготовка датафрейма"
   ]
  },
  {
   "cell_type": "code",
   "execution_count": 1,
   "metadata": {
    "ExecuteTime": {
     "end_time": "2022-01-31T03:49:42.126788Z",
     "start_time": "2022-01-31T03:49:42.123378Z"
    }
   },
   "outputs": [],
   "source": [
    "import numpy as np\n",
    "import pandas as pd\n",
    "from datetime import datetime\n",
    "from collections import Counter\n",
    "from sklearn.tree import DecisionTreeClassifier\n",
    "from sklearn import metrics\n",
    "import seaborn as sns"
   ]
  },
  {
   "cell_type": "code",
   "execution_count": 2,
   "metadata": {
    "ExecuteTime": {
     "end_time": "2022-01-31T03:49:43.232607Z",
     "start_time": "2022-01-31T03:49:42.885224Z"
    }
   },
   "outputs": [],
   "source": [
    "size = 10000\n",
    "\n",
    "df = pd.DataFrame(\n",
    "    {\n",
    "        'time': [*pd.date_range('2001-01-01', '2020-09-01', freq='1h')][:size],\n",
    "        'user_id': np.random.choice(1000, size),\n",
    "        'type': np.random.choice(2, size, p=[0.8, 0.2]),\n",
    "        'amount': [int(x//1) for x in  np.random.normal(15_000, 1_000, size)],\n",
    "        'target': np.random.choice(2, size, p=[0.5, 0.5]),\n",
    "    },\n",
    "    index=[*range(size)],\n",
    ")"
   ]
  },
  {
   "cell_type": "code",
   "execution_count": 3,
   "metadata": {
    "ExecuteTime": {
     "end_time": "2022-01-31T03:49:46.319681Z",
     "start_time": "2022-01-31T03:49:46.314034Z"
    }
   },
   "outputs": [],
   "source": [
    "df['is_loan'] = df['type']\n",
    "df['type'] = df['type'].replace({0: 'loanRequest', 1: 'loan'})\n",
    "df.to_csv('test_origin.csv', index=False)"
   ]
  },
  {
   "cell_type": "markdown",
   "metadata": {
    "ExecuteTime": {
     "end_time": "2022-01-31T03:49:47.046951Z",
     "start_time": "2022-01-31T03:49:47.008314Z"
    }
   },
   "source": [
    "### Часть 2.1"
   ]
  },
  {
   "cell_type": "code",
   "execution_count": 8,
   "metadata": {},
   "outputs": [],
   "source": [
    "df_part2=pd.read_csv('test_Feb22.csv').drop('Unnamed: 0', axis=1)\n",
    "#df_part2['type'] = df_part2['type'].replace({'loanRequest':0, 'loan':1})\n",
    "df_part2['second_event_time'] =  pd.to_datetime(df_part2['second_event_time'], format='%Y-%m-%d %H:%M:%S')\n",
    "df_part2=df_part2.drop(['time','user_id','type','second_event_time','events_time_diff'],axis=1)\n",
    "df_part2['amount']=df_part2['amount']// 1000\n",
    "df_part2['previous_loans_max_amount']=df_part2['previous_loans_max_amount']// 1000 \n",
    "df_part2=df_part2.replace(np.nan, 0)\n",
    "#df_part2"
   ]
  },
  {
   "cell_type": "code",
   "execution_count": 9,
   "metadata": {},
   "outputs": [
    {
     "data": {
      "text/plain": [
       "<AxesSubplot:>"
      ]
     },
     "execution_count": 9,
     "metadata": {},
     "output_type": "execute_result"
    },
    {
     "data": {
      "image/png": "[encoded data removed]",
      "text/plain": [
       "<Figure size 432x288 with 2 Axes>"
      ]
     },
     "metadata": {
      "needs_background": "light"
     },
     "output_type": "display_data"
    }
   ],
   "source": [
    "# Предварительно по матрице корреляции заметно влияние feature 1 на target\n",
    "sns.heatmap(df_part2.corr())"
   ]
  },
  {
   "cell_type": "code",
   "execution_count": 30,
   "metadata": {},
   "outputs": [
    {
     "data": {
      "text/html": [
       "<div>\n",
       "<style scoped>\n",
       "    .dataframe tbody tr th:only-of-type {\n",
       "        vertical-align: middle;\n",
       "    }\n",
       "\n",
       "    .dataframe tbody tr th {\n",
       "        vertical-align: top;\n",
       "    }\n",
       "\n",
       "    .dataframe thead th {\n",
       "        text-align: right;\n",
       "    }\n",
       "</style>\n",
       "<table border=\"1\" class=\"dataframe\">\n",
       "  <thead>\n",
       "    <tr style=\"text-align: right;\">\n",
       "      <th></th>\n",
       "      <th>amount</th>\n",
       "      <th>target</th>\n",
       "      <th>feature1</th>\n",
       "      <th>feature2</th>\n",
       "      <th>events_ordinal_number</th>\n",
       "      <th>loan_ordinal_number</th>\n",
       "      <th>previous_loans_max_amount</th>\n",
       "    </tr>\n",
       "  </thead>\n",
       "  <tbody>\n",
       "    <tr>\n",
       "      <th>amount</th>\n",
       "      <td>1.000000</td>\n",
       "      <td>-0.012596</td>\n",
       "      <td>-0.007686</td>\n",
       "      <td>-0.011972</td>\n",
       "      <td>0.002149</td>\n",
       "      <td>-0.013192</td>\n",
       "      <td>-0.010681</td>\n",
       "    </tr>\n",
       "    <tr>\n",
       "      <th>target</th>\n",
       "      <td>-0.012596</td>\n",
       "      <td>1.000000</td>\n",
       "      <td>0.134085</td>\n",
       "      <td>-0.019589</td>\n",
       "      <td>-0.008460</td>\n",
       "      <td>-0.014859</td>\n",
       "      <td>0.000096</td>\n",
       "    </tr>\n",
       "    <tr>\n",
       "      <th>feature1</th>\n",
       "      <td>-0.007686</td>\n",
       "      <td>0.134085</td>\n",
       "      <td>1.000000</td>\n",
       "      <td>0.003266</td>\n",
       "      <td>0.001760</td>\n",
       "      <td>-0.003346</td>\n",
       "      <td>-0.003716</td>\n",
       "    </tr>\n",
       "    <tr>\n",
       "      <th>feature2</th>\n",
       "      <td>-0.011972</td>\n",
       "      <td>-0.019589</td>\n",
       "      <td>0.003266</td>\n",
       "      <td>1.000000</td>\n",
       "      <td>-0.018513</td>\n",
       "      <td>-0.006232</td>\n",
       "      <td>-0.002643</td>\n",
       "    </tr>\n",
       "    <tr>\n",
       "      <th>events_ordinal_number</th>\n",
       "      <td>0.002149</td>\n",
       "      <td>-0.008460</td>\n",
       "      <td>0.001760</td>\n",
       "      <td>-0.018513</td>\n",
       "      <td>1.000000</td>\n",
       "      <td>0.632478</td>\n",
       "      <td>0.540360</td>\n",
       "    </tr>\n",
       "    <tr>\n",
       "      <th>loan_ordinal_number</th>\n",
       "      <td>-0.013192</td>\n",
       "      <td>-0.014859</td>\n",
       "      <td>-0.003346</td>\n",
       "      <td>-0.006232</td>\n",
       "      <td>0.632478</td>\n",
       "      <td>1.000000</td>\n",
       "      <td>0.777731</td>\n",
       "    </tr>\n",
       "    <tr>\n",
       "      <th>previous_loans_max_amount</th>\n",
       "      <td>-0.010681</td>\n",
       "      <td>0.000096</td>\n",
       "      <td>-0.003716</td>\n",
       "      <td>-0.002643</td>\n",
       "      <td>0.540360</td>\n",
       "      <td>0.777731</td>\n",
       "      <td>1.000000</td>\n",
       "    </tr>\n",
       "  </tbody>\n",
       "</table>\n",
       "</div>"
      ],
      "text/plain": [
       "                             amount    target  feature1  feature2  \\\n",
       "amount                     1.000000 -0.012596 -0.007686 -0.011972   \n",
       "target                    -0.012596  1.000000  0.134085 -0.019589   \n",
       "feature1                  -0.007686  0.134085  1.000000  0.003266   \n",
       "feature2                  -0.011972 -0.019589  0.003266  1.000000   \n",
       "events_ordinal_number      0.002149 -0.008460  0.001760 -0.018513   \n",
       "loan_ordinal_number       -0.013192 -0.014859 -0.003346 -0.006232   \n",
       "previous_loans_max_amount -0.010681  0.000096 -0.003716 -0.002643   \n",
       "\n",
       "                           events_ordinal_number  loan_ordinal_number  \\\n",
       "amount                                  0.002149            -0.013192   \n",
       "target                                 -0.008460            -0.014859   \n",
       "feature1                                0.001760            -0.003346   \n",
       "feature2                               -0.018513            -0.006232   \n",
       "events_ordinal_number                   1.000000             0.632478   \n",
       "loan_ordinal_number                     0.632478             1.000000   \n",
       "previous_loans_max_amount               0.540360             0.777731   \n",
       "\n",
       "                           previous_loans_max_amount  \n",
       "amount                                     -0.010681  \n",
       "target                                      0.000096  \n",
       "feature1                                   -0.003716  \n",
       "feature2                                   -0.002643  \n",
       "events_ordinal_number                       0.540360  \n",
       "loan_ordinal_number                         0.777731  \n",
       "previous_loans_max_amount                   1.000000  "
      ]
     },
     "execution_count": 30,
     "metadata": {},
     "output_type": "execute_result"
    }
   ],
   "source": [
    "df_part2.corr()"
   ]
  },
  {
   "cell_type": "code",
   "execution_count": 13,
   "metadata": {},
   "outputs": [],
   "source": []
  },
  {
   "cell_type": "code",
   "execution_count": 32,
   "metadata": {},
   "outputs": [
    {
     "data": {
      "text/html": [
       "<div>\n",
       "<style scoped>\n",
       "    .dataframe tbody tr th:only-of-type {\n",
       "        vertical-align: middle;\n",
       "    }\n",
       "\n",
       "    .dataframe tbody tr th {\n",
       "        vertical-align: top;\n",
       "    }\n",
       "\n",
       "    .dataframe thead th {\n",
       "        text-align: right;\n",
       "    }\n",
       "</style>\n",
       "<table border=\"1\" class=\"dataframe\">\n",
       "  <thead>\n",
       "    <tr style=\"text-align: right;\">\n",
       "      <th></th>\n",
       "      <th>feature</th>\n",
       "      <th>importance</th>\n",
       "    </tr>\n",
       "  </thead>\n",
       "  <tbody>\n",
       "    <tr>\n",
       "      <th>0</th>\n",
       "      <td>events_ordinal_number</td>\n",
       "      <td>0.312201</td>\n",
       "    </tr>\n",
       "    <tr>\n",
       "      <th>1</th>\n",
       "      <td>feature1</td>\n",
       "      <td>0.190017</td>\n",
       "    </tr>\n",
       "    <tr>\n",
       "      <th>2</th>\n",
       "      <td>amount</td>\n",
       "      <td>0.184503</td>\n",
       "    </tr>\n",
       "    <tr>\n",
       "      <th>3</th>\n",
       "      <td>loan_ordinal_number</td>\n",
       "      <td>0.157134</td>\n",
       "    </tr>\n",
       "    <tr>\n",
       "      <th>4</th>\n",
       "      <td>previous_loans_max_amount</td>\n",
       "      <td>0.151400</td>\n",
       "    </tr>\n",
       "    <tr>\n",
       "      <th>5</th>\n",
       "      <td>feature2</td>\n",
       "      <td>0.004745</td>\n",
       "    </tr>\n",
       "  </tbody>\n",
       "</table>\n",
       "</div>"
      ],
      "text/plain": [
       "                     feature  importance\n",
       "0      events_ordinal_number    0.312201\n",
       "1                   feature1    0.190017\n",
       "2                     amount    0.184503\n",
       "3        loan_ordinal_number    0.157134\n",
       "4  previous_loans_max_amount    0.151400\n",
       "5                   feature2    0.004745"
      ]
     },
     "execution_count": 32,
     "metadata": {},
     "output_type": "execute_result"
    }
   ],
   "source": [
    "X=df_part2.drop(['target'], axis=1)\n",
    "y=df_part2['target']\n",
    "model = DecisionTreeClassifier(random_state=22,\n",
    "                               criterion='entropy',\n",
    "                               splitter='best',\n",
    "                               min_samples_split=20,\n",
    "                               min_samples_leaf=10,\n",
    "                               class_weight='balanced',\n",
    "                              )\n",
    "model.fit(X, y)\n",
    "pd.DataFrame({'feature': X.columns,\n",
    "              'importance': model.feature_importances_}).sort_values('importance', ascending=False).reset_index(drop = True)"
   ]
  },
  {
   "cell_type": "code",
   "execution_count": 33,
   "metadata": {},
   "outputs": [
    {
     "data": {
      "text/html": [
       "<div>\n",
       "<style scoped>\n",
       "    .dataframe tbody tr th:only-of-type {\n",
       "        vertical-align: middle;\n",
       "    }\n",
       "\n",
       "    .dataframe tbody tr th {\n",
       "        vertical-align: top;\n",
       "    }\n",
       "\n",
       "    .dataframe thead th {\n",
       "        text-align: right;\n",
       "    }\n",
       "</style>\n",
       "<table border=\"1\" class=\"dataframe\">\n",
       "  <thead>\n",
       "    <tr style=\"text-align: right;\">\n",
       "      <th></th>\n",
       "      <th>feature</th>\n",
       "      <th>importance</th>\n",
       "    </tr>\n",
       "  </thead>\n",
       "  <tbody>\n",
       "    <tr>\n",
       "      <th>0</th>\n",
       "      <td>feature1</td>\n",
       "      <td>0.399861</td>\n",
       "    </tr>\n",
       "    <tr>\n",
       "      <th>1</th>\n",
       "      <td>previous_loans_max_amount</td>\n",
       "      <td>0.197575</td>\n",
       "    </tr>\n",
       "    <tr>\n",
       "      <th>2</th>\n",
       "      <td>amount</td>\n",
       "      <td>0.193021</td>\n",
       "    </tr>\n",
       "    <tr>\n",
       "      <th>3</th>\n",
       "      <td>loan_ordinal_number</td>\n",
       "      <td>0.171700</td>\n",
       "    </tr>\n",
       "    <tr>\n",
       "      <th>4</th>\n",
       "      <td>feature2</td>\n",
       "      <td>0.037844</td>\n",
       "    </tr>\n",
       "  </tbody>\n",
       "</table>\n",
       "</div>"
      ],
      "text/plain": [
       "                     feature  importance\n",
       "0                   feature1    0.399861\n",
       "1  previous_loans_max_amount    0.197575\n",
       "2                     amount    0.193021\n",
       "3        loan_ordinal_number    0.171700\n",
       "4                   feature2    0.037844"
      ]
     },
     "execution_count": 33,
     "metadata": {},
     "output_type": "execute_result"
    }
   ],
   "source": [
    "X=df_part2.drop(['target','events_ordinal_number'], axis=1)\n",
    "y=df_part2['target']\n",
    "model = DecisionTreeClassifier(random_state=22,\n",
    "                               criterion='entropy',\n",
    "                               splitter='best',\n",
    "                               min_samples_split=20,\n",
    "                               min_samples_leaf=10,\n",
    "                               class_weight='balanced',\n",
    "                              )\n",
    "model.fit(X, y)\n",
    "pd.DataFrame({'feature': X.columns,\n",
    "              'importance': model.feature_importances_}).sort_values('importance', ascending=False).reset_index(drop = True)"
   ]
  },
  {
   "cell_type": "code",
   "execution_count": 34,
   "metadata": {},
   "outputs": [
    {
     "data": {
      "text/html": [
       "<div>\n",
       "<style scoped>\n",
       "    .dataframe tbody tr th:only-of-type {\n",
       "        vertical-align: middle;\n",
       "    }\n",
       "\n",
       "    .dataframe tbody tr th {\n",
       "        vertical-align: top;\n",
       "    }\n",
       "\n",
       "    .dataframe thead th {\n",
       "        text-align: right;\n",
       "    }\n",
       "</style>\n",
       "<table border=\"1\" class=\"dataframe\">\n",
       "  <thead>\n",
       "    <tr style=\"text-align: right;\">\n",
       "      <th></th>\n",
       "      <th>feature</th>\n",
       "      <th>importance</th>\n",
       "    </tr>\n",
       "  </thead>\n",
       "  <tbody>\n",
       "    <tr>\n",
       "      <th>0</th>\n",
       "      <td>previous_loans_max_amount</td>\n",
       "      <td>0.376196</td>\n",
       "    </tr>\n",
       "    <tr>\n",
       "      <th>1</th>\n",
       "      <td>amount</td>\n",
       "      <td>0.306768</td>\n",
       "    </tr>\n",
       "    <tr>\n",
       "      <th>2</th>\n",
       "      <td>loan_ordinal_number</td>\n",
       "      <td>0.275975</td>\n",
       "    </tr>\n",
       "    <tr>\n",
       "      <th>3</th>\n",
       "      <td>feature2</td>\n",
       "      <td>0.041062</td>\n",
       "    </tr>\n",
       "  </tbody>\n",
       "</table>\n",
       "</div>"
      ],
      "text/plain": [
       "                     feature  importance\n",
       "0  previous_loans_max_amount    0.376196\n",
       "1                     amount    0.306768\n",
       "2        loan_ordinal_number    0.275975\n",
       "3                   feature2    0.041062"
      ]
     },
     "execution_count": 34,
     "metadata": {},
     "output_type": "execute_result"
    }
   ],
   "source": [
    "X=df_part2.drop(['target','events_ordinal_number','feature1'], axis=1)\n",
    "y=df_part2['target']\n",
    "model = DecisionTreeClassifier(random_state=22,\n",
    "                               criterion='entropy',\n",
    "                               splitter='best',\n",
    "                               min_samples_split=20,\n",
    "                               min_samples_leaf=10,\n",
    "                               class_weight='balanced',\n",
    "                              )\n",
    "model.fit(X, y)\n",
    "pd.DataFrame({'feature': X.columns,\n",
    "              'importance': model.feature_importances_}).sort_values('importance', ascending=False).reset_index(drop = True)"
   ]
  },
  {
   "cell_type": "code",
   "execution_count": null,
   "metadata": {},
   "outputs": [],
   "source": [
    "На основе анализа заметно что вне зависисмости от состава списка параметров значимость переменной feature2 практически не изменяется и остается минимальной, \n",
    "тогда как feeature1 изначально показала зависимость на корреляции и далее подтвердила ее при проверке через feature_importances_"
   ]
  },
  {
   "cell_type": "markdown",
   "metadata": {},
   "source": [
    "### Расчет признаков"
   ]
  },
  {
   "cell_type": "markdown",
   "metadata": {},
   "source": [
    "#### Признак `events_ordinal_number`"
   ]
  },
  {
   "cell_type": "code",
   "execution_count": 17,
   "metadata": {
    "ExecuteTime": {
     "end_time": "2022-01-31T03:51:18.742585Z",
     "start_time": "2022-01-31T03:51:18.739041Z"
    }
   },
   "outputs": [],
   "source": [
    "# весь код расчета признака должен быть в этом методе\n",
    "def calculate_events_number(df):\n",
    "    events_on=[0] * df.shape[0]#df2\n",
    "    for i in df['user_id'].unique():\n",
    "        df_t2=df.loc[df['user_id'] == i]\n",
    "        ind=df_t2.index\n",
    "        on=1\n",
    "        for j in ind:\n",
    "            events_on[j]=on\n",
    "            on+=1\n",
    "    df['events_ordinal_number'] = events_on#тут ваш код\n",
    "    \n",
    "    return df"
   ]
  },
  {
   "cell_type": "markdown",
   "metadata": {},
   "source": [
    "#### Признак `second_event_time`"
   ]
  },
  {
   "cell_type": "code",
   "execution_count": 18,
   "metadata": {
    "ExecuteTime": {
     "end_time": "2022-01-31T03:51:20.999794Z",
     "start_time": "2022-01-31T03:51:20.996142Z"
    }
   },
   "outputs": [],
   "source": [
    "# весь код расчета признака должен быть в этом методе\n",
    "def calculate_second_event_time(df):\n",
    "    second_et=[0] * df.shape[0]#df2\n",
    "    for i in df['user_id'].unique():\n",
    "        df_t2=df.loc[df['user_id'] == i]\n",
    "        ind=df_t2.index\n",
    "        if len(ind)<2:\n",
    "            second_et[ind[0]]=np.nan\n",
    "        else:\n",
    "            se_et=df_t2['time'][ind[1]]\n",
    "            for j in ind:\n",
    "                second_et[j]=se_et\n",
    "    df['second_event_time'] = second_et#тут ваш код\n",
    "    return df"
   ]
  },
  {
   "cell_type": "markdown",
   "metadata": {},
   "source": [
    "#### Признак `loan_ordinal_number`"
   ]
  },
  {
   "cell_type": "code",
   "execution_count": 19,
   "metadata": {
    "ExecuteTime": {
     "end_time": "2022-01-31T03:51:22.879197Z",
     "start_time": "2022-01-31T03:51:22.875652Z"
    }
   },
   "outputs": [],
   "source": [
    "# весь код расчета признака должен быть в этом методе\n",
    "def calculate_loan_number(df):\n",
    "    loan_on=[0] * df.shape[0]#df2\n",
    "    for i in df['user_id'].unique():\n",
    "        df_t=df.loc[df['user_id'] == i]\n",
    "        ind=df_t.index\n",
    "        cr_cnt=1\n",
    "        for j in ind:\n",
    "            if df_t['type'][j] == 'loan':\n",
    "                loan_on[j]=cr_cnt\n",
    "                cr_cnt+=1\n",
    "            else: \n",
    "                loan_on[j]=cr_cnt\n",
    "    df['loan_ordinal_number'] =loan_on #тут ваш код\n",
    "\n",
    "    return df"
   ]
  },
  {
   "cell_type": "markdown",
   "metadata": {},
   "source": [
    "#### Признак `events_time_diff`"
   ]
  },
  {
   "cell_type": "code",
   "execution_count": 20,
   "metadata": {
    "ExecuteTime": {
     "end_time": "2022-01-31T03:51:25.018203Z",
     "start_time": "2022-01-31T03:51:25.014557Z"
    }
   },
   "outputs": [],
   "source": [
    "# весь код расчета признака должен быть в этом методе\n",
    "def calculate_time_diff(df):\n",
    "    calc_td=[0] * df.shape[0]#df2\n",
    "    for i in df['user_id'].unique():\n",
    "        df_t=df.loc[df['user_id'] == i]\n",
    "        a=df_t['time'].diff()\n",
    "        ind=df_t.index\n",
    "        for j in ind:\n",
    "            calc_td[j]=a[j]\n",
    "    df['events_time_diff'] =calc_td #тут ваш код\n",
    "\n",
    "    return df"
   ]
  },
  {
   "cell_type": "markdown",
   "metadata": {},
   "source": [
    "#### Признак `previous_loans_max_amount`"
   ]
  },
  {
   "cell_type": "code",
   "execution_count": 21,
   "metadata": {
    "ExecuteTime": {
     "end_time": "2022-01-31T03:51:26.966306Z",
     "start_time": "2022-01-31T03:51:26.961723Z"
    }
   },
   "outputs": [],
   "source": [
    "# весь код расчета признака должен быть в этом методе\n",
    "def calculate_previous_max_amount(df):    \n",
    "    pmax=[np.nan] * df.shape[0]#df2\n",
    "    for i in df['user_id'].unique():\n",
    "        df_t=df.loc[df['user_id'] == i]\n",
    "        ind=df_t.index\n",
    "        mx=[]\n",
    "        for j in ind:\n",
    "            if df_t['type'][j] == 'loan' and len(mx)>0:\n",
    "                pmax[j]=max(mx)\n",
    "                mx.append(df_t['amount'][j])\n",
    "            elif df_t['type'][j] == 'loan' and len(mx)==0:\n",
    "                mx.append(df_t['amount'][j])\n",
    "            elif len(mx)>0:\n",
    "                pmax[j]=max(mx)\n",
    "                \n",
    "    df['previous_loans_max_amount'] = pmax #тут ваш код\n",
    "\n",
    "    return df"
   ]
  },
  {
   "cell_type": "markdown",
   "metadata": {},
   "source": [
    "### Сохранение итогового датасета с признаками\n",
    "\n",
    "Этот код трогать не нужно."
   ]
  },
  {
   "cell_type": "code",
   "execution_count": 28,
   "metadata": {
    "ExecuteTime": {
     "end_time": "2022-01-31T03:51:29.334833Z",
     "start_time": "2022-01-31T03:51:29.331495Z"
    }
   },
   "outputs": [],
   "source": [
    "def calculate_feature(df):\n",
    "    calculate_events_number(df)# отдельно скорость  180 ms ± 11.5 ms per loop\n",
    "    calculate_second_event_time(df)# отдельно скорость 248 ms ± 11.5 ms per loop\n",
    "    calculate_loan_number(df)# отдельно скорость 281 ms ± 32.1 ms per loop\n",
    "    calculate_time_diff(df)# отдельно скорость 1.17 s ± 33.4 ms per \n",
    "    calculate_previous_max_amount(df)# отдельно скорость 1.04 s ± 52 ms per loop "
   ]
  },
  {
   "cell_type": "code",
   "execution_count": 29,
   "metadata": {
    "ExecuteTime": {
     "end_time": "2022-01-31T03:53:20.750966Z",
     "start_time": "2022-01-31T03:53:17.888812Z"
    }
   },
   "outputs": [
    {
     "name": "stdout",
     "output_type": "stream",
     "text": [
      "4.75 s ± 106 ms per loop (mean ± std. dev. of 7 runs, 1 loop each)\n"
     ]
    },
    {
     "data": {
      "text/plain": [
       "<TimeitResult : 4.75 s ± 106 ms per loop (mean ± std. dev. of 7 runs, 1 loop each)>"
      ]
     },
     "execution_count": 29,
     "metadata": {},
     "output_type": "execute_result"
    }
   ],
   "source": [
    "%%timeit -o \n",
    "calculate_feature(df)"
   ]
  },
  {
   "cell_type": "code",
   "execution_count": null,
   "metadata": {
    "ExecuteTime": {
     "end_time": "2022-01-31T03:53:22.588760Z",
     "start_time": "2022-01-31T03:53:22.583736Z"
    }
   },
   "outputs": [],
   "source": [
    "columns = ['time']\n",
    "rez = _\n",
    "df_time = pd.DataFrame([rez], None, columns)\n",
    "df_time.to_csv('time.csv', index=False)"
   ]
  },
  {
   "cell_type": "code",
   "execution_count": null,
   "metadata": {
    "ExecuteTime": {
     "end_time": "2022-01-27T10:22:50.404760Z",
     "start_time": "2022-01-27T10:22:50.349771Z"
    }
   },
   "outputs": [],
   "source": [
    "df.to_csv('test.csv', index=False)"
   ]
  },
  {
   "cell_type": "code",
   "execution_count": null,
   "metadata": {},
   "outputs": [],
   "source": []
  }
 ],
 "metadata": {
  "kernelspec": {
   "display_name": "Python 3 (ipykernel)",
   "language": "python",
   "name": "python3"
  },
  "language_info": {
   "codemirror_mode": {
    "name": "ipython",
    "version": 3
   },
   "file_extension": ".py",
   "mimetype": "text/x-python",
   "name": "python",
   "nbconvert_exporter": "python",
   "pygments_lexer": "ipython3",
   "version": "3.9.7"
  },
  "varInspector": {
   "cols": {
    "lenName": 16,
    "lenType": 16,
    "lenVar": 40
   },
   "kernels_config": {
    "python": {
     "delete_cmd_postfix": "",
     "delete_cmd_prefix": "del ",
     "library": "var_list.py",
     "varRefreshCmd": "print(var_dic_list())"
    },
    "r": {
     "delete_cmd_postfix": ") ",
     "delete_cmd_prefix": "rm(",
     "library": "var_list.r",
     "varRefreshCmd": "cat(var_dic_list()) "
    }
   },
   "types_to_exclude": [
    "module",
    "function",
    "builtin_function_or_method",
    "instance",
    "_Feature"
   ],
   "window_display": false
  }
 },
 "nbformat": 4,
 "nbformat_minor": 4
}
